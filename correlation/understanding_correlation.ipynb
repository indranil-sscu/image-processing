{
 "cells": [
  {
   "cell_type": "markdown",
   "metadata": {},
   "source": [
    "<h1>Making use of a template to estimate correlation</h1>\n",
    "\n",
    "author: indranil\n",
    "\n",
    "There are faster implementaions of the codes, use those if necessary. The notebook is an attempt to understand how the individual functions work. If you are benefitted by this notebook, make sure to pay the author for a cup of coffee."
   ]
  },
  {
   "cell_type": "code",
   "execution_count": 1,
   "metadata": {},
   "outputs": [
    {
     "name": "stdout",
     "output_type": "stream",
     "text": [
      "[3 2 4 1 3 8 4 0 3 8 0 7 7 7 1 2]\n",
      "[3. 3. 2. 4. 1. 3. 8. 4. 0. 3. 8. 0. 7. 7. 7. 1. 2. 2.]\n",
      "[0.93607275 0.87645659 0.93414848 0.73190244 0.81662951 0.988974\n",
      " 0.6381449  0.592727   0.78366303 0.83505077 0.60921943 0.93138063\n",
      " 0.95058638 0.82737924 0.56760691 0.98787834]\n",
      "5\n"
     ]
    }
   ],
   "source": [
    "import numpy as np\n",
    "\n",
    "arr1 = np.array([3, 2, 4, 1, 3, 8, 4, 0, 3, 8, 0, 7, 7, 7, 1, 2])\n",
    "\n",
    "template = np.array([3,7,5])\n",
    "\n",
    "print(arr1)\n",
    "\n",
    "len_padding = 1\n",
    "padded_arr1 = np.zeros(len(arr1) + 2 * len_padding)\n",
    "\n",
    "padded_arr1[len_padding : len(arr1) + len_padding] = arr1[:]\n",
    "\n",
    "padded_arr1[0 : len_padding] = arr1[0]\n",
    "padded_arr1[- len_padding : ] = arr1[len(arr1) - 1]\n",
    "\n",
    "print(padded_arr1)\n",
    "\n",
    "corr_arr = np.zeros(len(arr1))\n",
    "\n",
    "for i in range(len(arr1)):\n",
    "\n",
    "    sum_val = 0\n",
    "    img_sq_val = 0\n",
    "    template_sq_val = 0\n",
    "\n",
    "    for j in range(len(template)):\n",
    "    \n",
    "        sum_val += (padded_arr1[i + j * len_padding] * template[j])\n",
    "        img_sq_val += padded_arr1[i + j * len_padding] ** 2\n",
    "        template_sq_val += template[j] ** 2\n",
    "\n",
    "    corr_arr[i] += sum_val / (np.sqrt(img_sq_val) * np.sqrt(template_sq_val))\n",
    "\n",
    "print(corr_arr)\n",
    "\n",
    "print(np.argmax(corr_arr))"
   ]
  },
  {
   "cell_type": "code",
   "execution_count": 9,
   "metadata": {},
   "outputs": [
    {
     "data": {
      "image/png": "[encoded data removed]",
      "text/plain": [
       "<Figure size 640x480 with 1 Axes>"
      ]
     },
     "metadata": {},
     "output_type": "display_data"
    }
   ],
   "source": [
    "from matplotlib import pyplot as plt\n",
    "from matplotlib import image as img\n",
    "\n",
    "import random\n",
    "\n",
    "image = np.zeros((10, 10), dtype = float)\n",
    "\n",
    "template = np.array([random.randint(0,256) for i in range(3)])\n",
    "\n",
    "# The header contains the template array\n",
    "image[0][0:3] += template\n",
    "\n",
    "image[3] += np.array([random.randint(0,256) for i in range(10)])\n",
    "image[3][4:7] = template\n",
    "\n",
    "image[5] += np.array([random.randint(0,256) for i in range(10)])\n",
    "image[5][0:3] = template\n",
    "\n",
    "image[7] += np.array([random.randint(0,256) for i in range(10)])\n",
    "image[7][7:10] = template\n",
    "\n",
    "plt.figure()\n",
    "plt.imshow(image, cmap='grey')\n",
    "plt.show()"
   ]
  },
  {
   "cell_type": "code",
   "execution_count": 10,
   "metadata": {},
   "outputs": [
    {
     "name": "stdout",
     "output_type": "stream",
     "text": [
      "[198. 198.  32. 253.   4.  42. 243. 108.  64. 157. 177. 177.]\n",
      "[0.78927338 0.49950375 0.92124351 0.23364974 0.55149195 1.\n",
      " 0.58888742 0.6845083  0.90861945 0.8639027 ]\n",
      "5\n"
     ]
    }
   ],
   "source": [
    "len_padding = 1\n",
    "padded_arr1 = np.zeros(len(arr1) + 2 * len_padding)\n",
    "\n",
    "arr1 = image[3]\n",
    "\n",
    "padded_arr1[len_padding : len(arr1) + len_padding] = arr1[:]\n",
    "\n",
    "padded_arr1[0 : len_padding] = arr1[0]\n",
    "padded_arr1[- len_padding : ] = arr1[len(arr1) - 1]\n",
    "\n",
    "print(padded_arr1)\n",
    "\n",
    "corr_arr = np.zeros(len(arr1))\n",
    "\n",
    "for i in range(len(arr1)):\n",
    "\n",
    "    sum_val = 0\n",
    "    img_sq_val = 0\n",
    "    template_sq_val = 0\n",
    "\n",
    "    for j in range(len(template)):\n",
    "    \n",
    "        sum_val += (padded_arr1[i + j * len_padding] * template[j])\n",
    "        img_sq_val += padded_arr1[i + j * len_padding] ** 2\n",
    "        template_sq_val += template[j] ** 2\n",
    "\n",
    "    corr_arr[i] += np.nan_to_num(sum_val / (np.sqrt(img_sq_val) * np.sqrt(template_sq_val)))\n",
    "\n",
    "print(corr_arr)\n",
    "\n",
    "print(np.argmax(corr_arr))"
   ]
  }
 ],
 "metadata": {
  "kernelspec": {
   "display_name": "spyder-env",
   "language": "python",
   "name": "python3"
  },
  "language_info": {
   "codemirror_mode": {
    "name": "ipython",
    "version": 3
   },
   "file_extension": ".py",
   "mimetype": "text/x-python",
   "name": "python",
   "nbconvert_exporter": "python",
   "pygments_lexer": "ipython3",
   "version": "3.12.5"
  }
 },
 "nbformat": 4,
 "nbformat_minor": 2
}
